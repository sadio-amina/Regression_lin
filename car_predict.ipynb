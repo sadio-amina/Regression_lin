{
 "cells": [
  {
   "cell_type": "code",
   "execution_count": 1,
   "id": "2dc8e5cb",
   "metadata": {},
   "outputs": [],
   "source": [
    "#--- Transform, clean data ---#\n",
    "import pandas as pd\n",
    "import numpy as np\n",
    "\n",
    "#--- Manage Missing values ---#\n",
    "import missingno as msno\n",
    "\n",
    "from scipy import stats\n",
    "\n",
    "#--- converting to time\n",
    "import datetime\n",
    "\n",
    "#--- Data visualisation ---#\n",
    "import matplotlib.pyplot as plt\n",
    "import seaborn as sns\n",
    "\n",
    "#--- Data pre processing ---#\n",
    "from sklearn.preprocessing import OneHotEncoder\n",
    "from sklearn.model_selection import train_test_split\n",
    "from sklearn.preprocessing import StandardScaler\n",
    "\n",
    "#--- Machine learning model : Linear regression ---#\n",
    "from sklearn.linear_model import LinearRegression\n",
    "\n",
    "#--- Metrics\n",
    "from sklearn.metrics import r2_score\n",
    "from sklearn.metrics import mean_absolute_error\n",
    "from sklearn.metrics import mean_squared_error"
   ]
  },
  {
   "cell_type": "markdown",
   "id": "11492d67",
   "metadata": {},
   "source": [
    "#### Importation du dataset"
   ]
  },
  {
   "cell_type": "code",
   "execution_count": 2,
   "id": "0cee8993",
   "metadata": {},
   "outputs": [
    {
     "data": {
      "text/html": [
       "<div>\n",
       "<style scoped>\n",
       "    .dataframe tbody tr th:only-of-type {\n",
       "        vertical-align: middle;\n",
       "    }\n",
       "\n",
       "    .dataframe tbody tr th {\n",
       "        vertical-align: top;\n",
       "    }\n",
       "\n",
       "    .dataframe thead th {\n",
       "        text-align: right;\n",
       "    }\n",
       "</style>\n",
       "<table border=\"1\" class=\"dataframe\">\n",
       "  <thead>\n",
       "    <tr style=\"text-align: right;\">\n",
       "      <th></th>\n",
       "      <th>Car_Name</th>\n",
       "      <th>Year</th>\n",
       "      <th>Selling_Price</th>\n",
       "      <th>Present_Price</th>\n",
       "      <th>Kms_Driven</th>\n",
       "      <th>Fuel_Type</th>\n",
       "      <th>Seller_Type</th>\n",
       "      <th>Transmission</th>\n",
       "      <th>Owner</th>\n",
       "    </tr>\n",
       "  </thead>\n",
       "  <tbody>\n",
       "    <tr>\n",
       "      <th>0</th>\n",
       "      <td>ritz</td>\n",
       "      <td>2014</td>\n",
       "      <td>3.35</td>\n",
       "      <td>5.59</td>\n",
       "      <td>27000</td>\n",
       "      <td>Petrol</td>\n",
       "      <td>Dealer</td>\n",
       "      <td>Manual</td>\n",
       "      <td>0</td>\n",
       "    </tr>\n",
       "    <tr>\n",
       "      <th>1</th>\n",
       "      <td>sx4</td>\n",
       "      <td>2013</td>\n",
       "      <td>4.75</td>\n",
       "      <td>9.54</td>\n",
       "      <td>43000</td>\n",
       "      <td>Diesel</td>\n",
       "      <td>Dealer</td>\n",
       "      <td>Manual</td>\n",
       "      <td>0</td>\n",
       "    </tr>\n",
       "    <tr>\n",
       "      <th>2</th>\n",
       "      <td>ciaz</td>\n",
       "      <td>2017</td>\n",
       "      <td>7.25</td>\n",
       "      <td>9.85</td>\n",
       "      <td>6900</td>\n",
       "      <td>Petrol</td>\n",
       "      <td>Dealer</td>\n",
       "      <td>Manual</td>\n",
       "      <td>0</td>\n",
       "    </tr>\n",
       "    <tr>\n",
       "      <th>3</th>\n",
       "      <td>wagon r</td>\n",
       "      <td>2011</td>\n",
       "      <td>2.85</td>\n",
       "      <td>4.15</td>\n",
       "      <td>5200</td>\n",
       "      <td>Petrol</td>\n",
       "      <td>Dealer</td>\n",
       "      <td>Manual</td>\n",
       "      <td>0</td>\n",
       "    </tr>\n",
       "    <tr>\n",
       "      <th>4</th>\n",
       "      <td>swift</td>\n",
       "      <td>2014</td>\n",
       "      <td>4.60</td>\n",
       "      <td>6.87</td>\n",
       "      <td>42450</td>\n",
       "      <td>Diesel</td>\n",
       "      <td>Dealer</td>\n",
       "      <td>Manual</td>\n",
       "      <td>0</td>\n",
       "    </tr>\n",
       "  </tbody>\n",
       "</table>\n",
       "</div>"
      ],
      "text/plain": [
       "  Car_Name  Year  Selling_Price  Present_Price  Kms_Driven Fuel_Type  \\\n",
       "0     ritz  2014           3.35           5.59       27000    Petrol   \n",
       "1      sx4  2013           4.75           9.54       43000    Diesel   \n",
       "2     ciaz  2017           7.25           9.85        6900    Petrol   \n",
       "3  wagon r  2011           2.85           4.15        5200    Petrol   \n",
       "4    swift  2014           4.60           6.87       42450    Diesel   \n",
       "\n",
       "  Seller_Type Transmission  Owner  \n",
       "0      Dealer       Manual      0  \n",
       "1      Dealer       Manual      0  \n",
       "2      Dealer       Manual      0  \n",
       "3      Dealer       Manual      0  \n",
       "4      Dealer       Manual      0  "
      ]
     },
     "execution_count": 2,
     "metadata": {},
     "output_type": "execute_result"
    }
   ],
   "source": [
    "car_data = pd.read_csv('./data/carData.csv')\n",
    "car_data.head()"
   ]
  },
  {
   "cell_type": "markdown",
   "id": "2ec0464a",
   "metadata": {},
   "source": [
    "#### Analyse exploratoire\n",
    "### Analyse de forme\n",
    "- Le dataset comprend 301 observations et 9 variables\n",
    "- Le dataset est composé de 5 variables quantitatives et 4 variables qualitatives\n",
    "- Il n'y a pas de valeurs manquantes dans le dataset"
   ]
  },
  {
   "cell_type": "code",
   "execution_count": 3,
   "id": "2c4342ba",
   "metadata": {},
   "outputs": [
    {
     "data": {
      "text/plain": [
       "(301, 9)"
      ]
     },
     "execution_count": 3,
     "metadata": {},
     "output_type": "execute_result"
    }
   ],
   "source": [
    "car_data.shape"
   ]
  },
  {
   "cell_type": "code",
   "execution_count": 4,
   "id": "3a58b08b",
   "metadata": {},
   "outputs": [
    {
     "name": "stdout",
     "output_type": "stream",
     "text": [
      "<class 'pandas.core.frame.DataFrame'>\n",
      "RangeIndex: 301 entries, 0 to 300\n",
      "Data columns (total 9 columns):\n",
      " #   Column         Non-Null Count  Dtype  \n",
      "---  ------         --------------  -----  \n",
      " 0   Car_Name       301 non-null    object \n",
      " 1   Year           301 non-null    int64  \n",
      " 2   Selling_Price  301 non-null    float64\n",
      " 3   Present_Price  301 non-null    float64\n",
      " 4   Kms_Driven     301 non-null    int64  \n",
      " 5   Fuel_Type      301 non-null    object \n",
      " 6   Seller_Type    301 non-null    object \n",
      " 7   Transmission   301 non-null    object \n",
      " 8   Owner          301 non-null    int64  \n",
      "dtypes: float64(2), int64(3), object(4)\n",
      "memory usage: 21.3+ KB\n"
     ]
    }
   ],
   "source": [
    "car_data.info()"
   ]
  },
  {
   "cell_type": "code",
   "execution_count": 5,
   "id": "cdda20e8",
   "metadata": {},
   "outputs": [
    {
     "data": {
      "text/plain": [
       "Car_Name          object\n",
       "Year               int64\n",
       "Selling_Price    float64\n",
       "Present_Price    float64\n",
       "Kms_Driven         int64\n",
       "Fuel_Type         object\n",
       "Seller_Type       object\n",
       "Transmission      object\n",
       "Owner              int64\n",
       "dtype: object"
      ]
     },
     "execution_count": 5,
     "metadata": {},
     "output_type": "execute_result"
    }
   ],
   "source": [
    "car_data.dtypes"
   ]
  },
  {
   "cell_type": "code",
   "execution_count": 6,
   "id": "116ac5f4",
   "metadata": {},
   "outputs": [
    {
     "data": {
      "text/plain": [
       "object     4\n",
       "int64      3\n",
       "float64    2\n",
       "dtype: int64"
      ]
     },
     "execution_count": 6,
     "metadata": {},
     "output_type": "execute_result"
    }
   ],
   "source": [
    "car_data.dtypes.value_counts()"
   ]
  },
  {
   "cell_type": "code",
   "execution_count": 7,
   "id": "691b3e40",
   "metadata": {},
   "outputs": [
    {
     "data": {
      "text/plain": [
       "Car_Name         0\n",
       "Year             0\n",
       "Selling_Price    0\n",
       "Present_Price    0\n",
       "Kms_Driven       0\n",
       "Fuel_Type        0\n",
       "Seller_Type      0\n",
       "Transmission     0\n",
       "Owner            0\n",
       "dtype: int64"
      ]
     },
     "execution_count": 7,
     "metadata": {},
     "output_type": "execute_result"
    }
   ],
   "source": [
    "car_data.isna().sum()"
   ]
  },
  {
   "cell_type": "markdown",
   "id": "41d9c9c4",
   "metadata": {},
   "source": [
    "#### Statistique du dataset"
   ]
  },
  {
   "cell_type": "code",
   "execution_count": 8,
   "id": "7dbae822",
   "metadata": {},
   "outputs": [
    {
     "data": {
      "text/html": [
       "<div>\n",
       "<style scoped>\n",
       "    .dataframe tbody tr th:only-of-type {\n",
       "        vertical-align: middle;\n",
       "    }\n",
       "\n",
       "    .dataframe tbody tr th {\n",
       "        vertical-align: top;\n",
       "    }\n",
       "\n",
       "    .dataframe thead th {\n",
       "        text-align: right;\n",
       "    }\n",
       "</style>\n",
       "<table border=\"1\" class=\"dataframe\">\n",
       "  <thead>\n",
       "    <tr style=\"text-align: right;\">\n",
       "      <th></th>\n",
       "      <th>Year</th>\n",
       "      <th>Selling_Price</th>\n",
       "      <th>Present_Price</th>\n",
       "      <th>Kms_Driven</th>\n",
       "      <th>Owner</th>\n",
       "    </tr>\n",
       "  </thead>\n",
       "  <tbody>\n",
       "    <tr>\n",
       "      <th>count</th>\n",
       "      <td>301.000000</td>\n",
       "      <td>301.000000</td>\n",
       "      <td>301.000000</td>\n",
       "      <td>301.000000</td>\n",
       "      <td>301.000000</td>\n",
       "    </tr>\n",
       "    <tr>\n",
       "      <th>mean</th>\n",
       "      <td>2013.627907</td>\n",
       "      <td>4.661296</td>\n",
       "      <td>7.628472</td>\n",
       "      <td>36947.205980</td>\n",
       "      <td>0.043189</td>\n",
       "    </tr>\n",
       "    <tr>\n",
       "      <th>std</th>\n",
       "      <td>2.891554</td>\n",
       "      <td>5.082812</td>\n",
       "      <td>8.644115</td>\n",
       "      <td>38886.883882</td>\n",
       "      <td>0.247915</td>\n",
       "    </tr>\n",
       "    <tr>\n",
       "      <th>min</th>\n",
       "      <td>2003.000000</td>\n",
       "      <td>0.100000</td>\n",
       "      <td>0.320000</td>\n",
       "      <td>500.000000</td>\n",
       "      <td>0.000000</td>\n",
       "    </tr>\n",
       "    <tr>\n",
       "      <th>25%</th>\n",
       "      <td>2012.000000</td>\n",
       "      <td>0.900000</td>\n",
       "      <td>1.200000</td>\n",
       "      <td>15000.000000</td>\n",
       "      <td>0.000000</td>\n",
       "    </tr>\n",
       "    <tr>\n",
       "      <th>50%</th>\n",
       "      <td>2014.000000</td>\n",
       "      <td>3.600000</td>\n",
       "      <td>6.400000</td>\n",
       "      <td>32000.000000</td>\n",
       "      <td>0.000000</td>\n",
       "    </tr>\n",
       "    <tr>\n",
       "      <th>75%</th>\n",
       "      <td>2016.000000</td>\n",
       "      <td>6.000000</td>\n",
       "      <td>9.900000</td>\n",
       "      <td>48767.000000</td>\n",
       "      <td>0.000000</td>\n",
       "    </tr>\n",
       "    <tr>\n",
       "      <th>max</th>\n",
       "      <td>2018.000000</td>\n",
       "      <td>35.000000</td>\n",
       "      <td>92.600000</td>\n",
       "      <td>500000.000000</td>\n",
       "      <td>3.000000</td>\n",
       "    </tr>\n",
       "  </tbody>\n",
       "</table>\n",
       "</div>"
      ],
      "text/plain": [
       "              Year  Selling_Price  Present_Price     Kms_Driven       Owner\n",
       "count   301.000000     301.000000     301.000000     301.000000  301.000000\n",
       "mean   2013.627907       4.661296       7.628472   36947.205980    0.043189\n",
       "std       2.891554       5.082812       8.644115   38886.883882    0.247915\n",
       "min    2003.000000       0.100000       0.320000     500.000000    0.000000\n",
       "25%    2012.000000       0.900000       1.200000   15000.000000    0.000000\n",
       "50%    2014.000000       3.600000       6.400000   32000.000000    0.000000\n",
       "75%    2016.000000       6.000000       9.900000   48767.000000    0.000000\n",
       "max    2018.000000      35.000000      92.600000  500000.000000    3.000000"
      ]
     },
     "execution_count": 8,
     "metadata": {},
     "output_type": "execute_result"
    }
   ],
   "source": [
    "car_data.describe()"
   ]
  },
  {
   "cell_type": "markdown",
   "id": "11471581",
   "metadata": {},
   "source": [
    "####  .Distribution des données avec matplotlib : histogrammes sur les variables"
   ]
  },
  {
   "cell_type": "code",
   "execution_count": 9,
   "id": "a926af83",
   "metadata": {},
   "outputs": [
    {
     "data": {
      "image/png": "[encoded data removed]",
      "text/plain": [
       "<Figure size 1000x1000 with 6 Axes>"
      ]
     },
     "metadata": {},
     "output_type": "display_data"
    }
   ],
   "source": [
    "car_data.hist(bins=40, figsize=(10,10))\n",
    "plt.savefig(\"./plots/cardata1_distribution.png\")\n",
    "plt.show()"
   ]
  },
  {
   "cell_type": "markdown",
   "id": "a1d2eb38",
   "metadata": {},
   "source": [
    "#### - Les variables ne suivent pas une distribution normale."
   ]
  },
  {
   "cell_type": "markdown",
   "id": "26be94cb",
   "metadata": {},
   "source": [
    "#### . Tracé catplot\n"
   ]
  },
  {
   "cell_type": "code",
   "execution_count": 10,
   "id": "e4205232",
   "metadata": {},
   "outputs": [
    {
     "data": {
      "image/png": "[encoded data removed]",
      "text/plain": [
       "<Figure size 592.625x500 with 1 Axes>"
      ]
     },
     "metadata": {},
     "output_type": "display_data"
    }
   ],
   "source": [
    "sns.catplot(data=car_data,x=\"Transmission\", y=\"Kms_Driven\",hue= \"Fuel_Type\", kind=\"box\")\n",
    "plt.show()"
   ]
  },
  {
   "cell_type": "code",
   "execution_count": 11,
   "id": "41f33a53",
   "metadata": {},
   "outputs": [
    {
     "data": {
      "text/html": [
       "<div>\n",
       "<style scoped>\n",
       "    .dataframe tbody tr th:only-of-type {\n",
       "        vertical-align: middle;\n",
       "    }\n",
       "\n",
       "    .dataframe tbody tr th {\n",
       "        vertical-align: top;\n",
       "    }\n",
       "\n",
       "    .dataframe thead th {\n",
       "        text-align: right;\n",
       "    }\n",
       "</style>\n",
       "<table border=\"1\" class=\"dataframe\">\n",
       "  <thead>\n",
       "    <tr style=\"text-align: right;\">\n",
       "      <th></th>\n",
       "      <th>Year</th>\n",
       "      <th>Selling_Price</th>\n",
       "      <th>Present_Price</th>\n",
       "      <th>Kms_Driven</th>\n",
       "      <th>Owner</th>\n",
       "    </tr>\n",
       "  </thead>\n",
       "  <tbody>\n",
       "    <tr>\n",
       "      <th>count</th>\n",
       "      <td>301.000000</td>\n",
       "      <td>301.000000</td>\n",
       "      <td>301.000000</td>\n",
       "      <td>301.000000</td>\n",
       "      <td>301.000000</td>\n",
       "    </tr>\n",
       "    <tr>\n",
       "      <th>mean</th>\n",
       "      <td>2013.627907</td>\n",
       "      <td>4.661296</td>\n",
       "      <td>7.628472</td>\n",
       "      <td>36947.205980</td>\n",
       "      <td>0.043189</td>\n",
       "    </tr>\n",
       "    <tr>\n",
       "      <th>std</th>\n",
       "      <td>2.891554</td>\n",
       "      <td>5.082812</td>\n",
       "      <td>8.644115</td>\n",
       "      <td>38886.883882</td>\n",
       "      <td>0.247915</td>\n",
       "    </tr>\n",
       "    <tr>\n",
       "      <th>min</th>\n",
       "      <td>2003.000000</td>\n",
       "      <td>0.100000</td>\n",
       "      <td>0.320000</td>\n",
       "      <td>500.000000</td>\n",
       "      <td>0.000000</td>\n",
       "    </tr>\n",
       "    <tr>\n",
       "      <th>25%</th>\n",
       "      <td>2012.000000</td>\n",
       "      <td>0.900000</td>\n",
       "      <td>1.200000</td>\n",
       "      <td>15000.000000</td>\n",
       "      <td>0.000000</td>\n",
       "    </tr>\n",
       "    <tr>\n",
       "      <th>50%</th>\n",
       "      <td>2014.000000</td>\n",
       "      <td>3.600000</td>\n",
       "      <td>6.400000</td>\n",
       "      <td>32000.000000</td>\n",
       "      <td>0.000000</td>\n",
       "    </tr>\n",
       "    <tr>\n",
       "      <th>75%</th>\n",
       "      <td>2016.000000</td>\n",
       "      <td>6.000000</td>\n",
       "      <td>9.900000</td>\n",
       "      <td>48767.000000</td>\n",
       "      <td>0.000000</td>\n",
       "    </tr>\n",
       "    <tr>\n",
       "      <th>max</th>\n",
       "      <td>2018.000000</td>\n",
       "      <td>35.000000</td>\n",
       "      <td>92.600000</td>\n",
       "      <td>500000.000000</td>\n",
       "      <td>3.000000</td>\n",
       "    </tr>\n",
       "  </tbody>\n",
       "</table>\n",
       "</div>"
      ],
      "text/plain": [
       "              Year  Selling_Price  Present_Price     Kms_Driven       Owner\n",
       "count   301.000000     301.000000     301.000000     301.000000  301.000000\n",
       "mean   2013.627907       4.661296       7.628472   36947.205980    0.043189\n",
       "std       2.891554       5.082812       8.644115   38886.883882    0.247915\n",
       "min    2003.000000       0.100000       0.320000     500.000000    0.000000\n",
       "25%    2012.000000       0.900000       1.200000   15000.000000    0.000000\n",
       "50%    2014.000000       3.600000       6.400000   32000.000000    0.000000\n",
       "75%    2016.000000       6.000000       9.900000   48767.000000    0.000000\n",
       "max    2018.000000      35.000000      92.600000  500000.000000    3.000000"
      ]
     },
     "execution_count": 11,
     "metadata": {},
     "output_type": "execute_result"
    }
   ],
   "source": [
    "car_data.describe()"
   ]
  },
  {
   "cell_type": "markdown",
   "id": "b3a37206",
   "metadata": {},
   "source": [
    "#### . Boxplot selling price"
   ]
  },
  {
   "cell_type": "code",
   "execution_count": 12,
   "id": "2fc30520",
   "metadata": {},
   "outputs": [
    {
     "data": {
      "image/png": "[encoded data removed]",
      "text/plain": [
       "<Figure size 640x480 with 1 Axes>"
      ]
     },
     "metadata": {},
     "output_type": "display_data"
    }
   ],
   "source": [
    "plt.boxplot(car_data[\"Selling_Price\"],showmeans=True)\n",
    "plt.title('boxplot selling price')\n",
    "plt.ylabel('selling price')\n",
    "plt.show()"
   ]
  },
  {
   "cell_type": "markdown",
   "id": "0b11a187",
   "metadata": {},
   "source": [
    "#### Le boxplot indique qu'il y a des valeurs aberrantes. On doit les traiter"
   ]
  },
  {
   "cell_type": "markdown",
   "id": "0ac8bcf4",
   "metadata": {},
   "source": [
    "#### . Corrélation entre les variables Year et Selling price\n"
   ]
  },
  {
   "cell_type": "code",
   "execution_count": 13,
   "id": "e0160493",
   "metadata": {},
   "outputs": [
    {
     "data": {
      "text/html": [
       "<div>\n",
       "<style scoped>\n",
       "    .dataframe tbody tr th:only-of-type {\n",
       "        vertical-align: middle;\n",
       "    }\n",
       "\n",
       "    .dataframe tbody tr th {\n",
       "        vertical-align: top;\n",
       "    }\n",
       "\n",
       "    .dataframe thead th {\n",
       "        text-align: right;\n",
       "    }\n",
       "</style>\n",
       "<table border=\"1\" class=\"dataframe\">\n",
       "  <thead>\n",
       "    <tr style=\"text-align: right;\">\n",
       "      <th></th>\n",
       "      <th>Year</th>\n",
       "      <th>Selling_Price</th>\n",
       "    </tr>\n",
       "  </thead>\n",
       "  <tbody>\n",
       "    <tr>\n",
       "      <th>Year</th>\n",
       "      <td>1.000000</td>\n",
       "      <td>0.236141</td>\n",
       "    </tr>\n",
       "    <tr>\n",
       "      <th>Selling_Price</th>\n",
       "      <td>0.236141</td>\n",
       "      <td>1.000000</td>\n",
       "    </tr>\n",
       "  </tbody>\n",
       "</table>\n",
       "</div>"
      ],
      "text/plain": [
       "                   Year  Selling_Price\n",
       "Year           1.000000       0.236141\n",
       "Selling_Price  0.236141       1.000000"
      ]
     },
     "execution_count": 13,
     "metadata": {},
     "output_type": "execute_result"
    }
   ],
   "source": [
    "car_data[['Year','Selling_Price']].corr()"
   ]
  },
  {
   "cell_type": "markdown",
   "id": "6cefb726",
   "metadata": {},
   "source": [
    "#### - Les deux variables sont positivement corréllées mais la corrélation n'est pas forte ( coef de correl de 0.23 )"
   ]
  },
  {
   "cell_type": "markdown",
   "id": "a0676639",
   "metadata": {},
   "source": [
    "#### . Corrélation des variables du dataset"
   ]
  },
  {
   "cell_type": "code",
   "execution_count": 14,
   "id": "bce28ffd",
   "metadata": {},
   "outputs": [
    {
     "data": {
      "text/html": [
       "<div>\n",
       "<style scoped>\n",
       "    .dataframe tbody tr th:only-of-type {\n",
       "        vertical-align: middle;\n",
       "    }\n",
       "\n",
       "    .dataframe tbody tr th {\n",
       "        vertical-align: top;\n",
       "    }\n",
       "\n",
       "    .dataframe thead th {\n",
       "        text-align: right;\n",
       "    }\n",
       "</style>\n",
       "<table border=\"1\" class=\"dataframe\">\n",
       "  <thead>\n",
       "    <tr style=\"text-align: right;\">\n",
       "      <th></th>\n",
       "      <th>Year</th>\n",
       "      <th>Selling_Price</th>\n",
       "      <th>Present_Price</th>\n",
       "      <th>Kms_Driven</th>\n",
       "      <th>Owner</th>\n",
       "    </tr>\n",
       "  </thead>\n",
       "  <tbody>\n",
       "    <tr>\n",
       "      <th>Year</th>\n",
       "      <td>1.000000</td>\n",
       "      <td>0.236141</td>\n",
       "      <td>-0.047584</td>\n",
       "      <td>-0.524342</td>\n",
       "      <td>-0.182104</td>\n",
       "    </tr>\n",
       "    <tr>\n",
       "      <th>Selling_Price</th>\n",
       "      <td>0.236141</td>\n",
       "      <td>1.000000</td>\n",
       "      <td>0.878983</td>\n",
       "      <td>0.029187</td>\n",
       "      <td>-0.088344</td>\n",
       "    </tr>\n",
       "    <tr>\n",
       "      <th>Present_Price</th>\n",
       "      <td>-0.047584</td>\n",
       "      <td>0.878983</td>\n",
       "      <td>1.000000</td>\n",
       "      <td>0.203647</td>\n",
       "      <td>0.008057</td>\n",
       "    </tr>\n",
       "    <tr>\n",
       "      <th>Kms_Driven</th>\n",
       "      <td>-0.524342</td>\n",
       "      <td>0.029187</td>\n",
       "      <td>0.203647</td>\n",
       "      <td>1.000000</td>\n",
       "      <td>0.089216</td>\n",
       "    </tr>\n",
       "    <tr>\n",
       "      <th>Owner</th>\n",
       "      <td>-0.182104</td>\n",
       "      <td>-0.088344</td>\n",
       "      <td>0.008057</td>\n",
       "      <td>0.089216</td>\n",
       "      <td>1.000000</td>\n",
       "    </tr>\n",
       "  </tbody>\n",
       "</table>\n",
       "</div>"
      ],
      "text/plain": [
       "                   Year  Selling_Price  Present_Price  Kms_Driven     Owner\n",
       "Year           1.000000       0.236141      -0.047584   -0.524342 -0.182104\n",
       "Selling_Price  0.236141       1.000000       0.878983    0.029187 -0.088344\n",
       "Present_Price -0.047584       0.878983       1.000000    0.203647  0.008057\n",
       "Kms_Driven    -0.524342       0.029187       0.203647    1.000000  0.089216\n",
       "Owner         -0.182104      -0.088344       0.008057    0.089216  1.000000"
      ]
     },
     "execution_count": 14,
     "metadata": {},
     "output_type": "execute_result"
    }
   ],
   "source": [
    "car_data.corr()"
   ]
  },
  {
   "cell_type": "markdown",
   "id": "59cfc4b2",
   "metadata": {},
   "source": [
    "#### . Visualisation de la corrélation avec heatmap"
   ]
  },
  {
   "cell_type": "code",
   "execution_count": 15,
   "id": "49b0bda0",
   "metadata": {},
   "outputs": [
    {
     "data": {
      "image/png": "[encoded data removed]",
      "text/plain": [
       "<Figure size 800x600 with 2 Axes>"
      ]
     },
     "metadata": {},
     "output_type": "display_data"
    }
   ],
   "source": [
    "plt.figure(figsize=(8, 6))\n",
    "sns.heatmap(car_data.corr(), annot= True)\n",
    "plt.savefig(\"./plots/data1_correlation.png\")\n",
    "plt.show()"
   ]
  },
  {
   "cell_type": "markdown",
   "id": "cca55622",
   "metadata": {},
   "source": [
    "- Les valeurs plus proche de 1 montrent une forte corrélation, les valeurs proche de 0 montrent une faible corrélation\n",
    "- il y a des corrélations positive et négative entre les différentes variables.\n",
    "- La plus grande corrélation repose entre le \"selling price\" et le \"present price\", puis le \"selling price\" et le \"year\""
   ]
  },
  {
   "cell_type": "markdown",
   "id": "f022082d",
   "metadata": {},
   "source": [
    "#### . Veille sur la régression linéaire"
   ]
  },
  {
   "cell_type": "markdown",
   "id": "b50560c6",
   "metadata": {},
   "source": [
    "####  la régression linéaire est un modèle statistique spécialisé dans la mise en œuvre des fonctions prédictives avec un minimum d'erreurs. On distingue le plus souvent deux types d'algorithmes de régression linéaire : la régression linéaire simple et la régression linéaire multiple. Cet algorithme réalise des prédictions pour des variables continues ou réelles comme le salaire, les ventes, le prix des produits, l'évolution en poids ou en taille…"
   ]
  },
  {
   "cell_type": "markdown",
   "id": "da06fd2d",
   "metadata": {},
   "source": [
    "### Preprocessing"
   ]
  },
  {
   "cell_type": "code",
   "execution_count": 16,
   "id": "59fc5688",
   "metadata": {},
   "outputs": [],
   "source": [
    "#car_data['Owner'].unique()"
   ]
  },
  {
   "cell_type": "code",
   "execution_count": 17,
   "id": "e3a9062d",
   "metadata": {},
   "outputs": [
    {
     "data": {
      "text/html": [
       "<div>\n",
       "<style scoped>\n",
       "    .dataframe tbody tr th:only-of-type {\n",
       "        vertical-align: middle;\n",
       "    }\n",
       "\n",
       "    .dataframe tbody tr th {\n",
       "        vertical-align: top;\n",
       "    }\n",
       "\n",
       "    .dataframe thead th {\n",
       "        text-align: right;\n",
       "    }\n",
       "</style>\n",
       "<table border=\"1\" class=\"dataframe\">\n",
       "  <thead>\n",
       "    <tr style=\"text-align: right;\">\n",
       "      <th></th>\n",
       "      <th>Car_Name</th>\n",
       "      <th>Year</th>\n",
       "      <th>Selling_Price</th>\n",
       "      <th>Present_Price</th>\n",
       "      <th>Kms_Driven</th>\n",
       "      <th>Fuel_Type</th>\n",
       "      <th>Seller_Type</th>\n",
       "      <th>Transmission</th>\n",
       "      <th>Owner</th>\n",
       "    </tr>\n",
       "  </thead>\n",
       "  <tbody>\n",
       "    <tr>\n",
       "      <th>85</th>\n",
       "      <td>camry</td>\n",
       "      <td>2006</td>\n",
       "      <td>2.5</td>\n",
       "      <td>23.73</td>\n",
       "      <td>142000</td>\n",
       "      <td>Petrol</td>\n",
       "      <td>Individual</td>\n",
       "      <td>Automatic</td>\n",
       "      <td>3</td>\n",
       "    </tr>\n",
       "  </tbody>\n",
       "</table>\n",
       "</div>"
      ],
      "text/plain": [
       "   Car_Name  Year  Selling_Price  Present_Price  Kms_Driven Fuel_Type  \\\n",
       "85    camry  2006            2.5          23.73      142000    Petrol   \n",
       "\n",
       "   Seller_Type Transmission  Owner  \n",
       "85  Individual    Automatic      3  "
      ]
     },
     "execution_count": 17,
     "metadata": {},
     "output_type": "execute_result"
    }
   ],
   "source": [
    "car_data[car_data['Owner'] == 3]"
   ]
  },
  {
   "cell_type": "code",
   "execution_count": 18,
   "id": "a10cac2b",
   "metadata": {},
   "outputs": [],
   "source": [
    "car_data= car_data.drop(85)"
   ]
  },
  {
   "cell_type": "code",
   "execution_count": 19,
   "id": "a1d692dc",
   "metadata": {
    "scrolled": true
   },
   "outputs": [
    {
     "data": {
      "text/html": [
       "<div>\n",
       "<style scoped>\n",
       "    .dataframe tbody tr th:only-of-type {\n",
       "        vertical-align: middle;\n",
       "    }\n",
       "\n",
       "    .dataframe tbody tr th {\n",
       "        vertical-align: top;\n",
       "    }\n",
       "\n",
       "    .dataframe thead th {\n",
       "        text-align: right;\n",
       "    }\n",
       "</style>\n",
       "<table border=\"1\" class=\"dataframe\">\n",
       "  <thead>\n",
       "    <tr style=\"text-align: right;\">\n",
       "      <th></th>\n",
       "      <th>Car_Name</th>\n",
       "      <th>Year</th>\n",
       "      <th>Selling_Price</th>\n",
       "      <th>Present_Price</th>\n",
       "      <th>Kms_Driven</th>\n",
       "      <th>Fuel_Type</th>\n",
       "      <th>Seller_Type</th>\n",
       "      <th>Transmission</th>\n",
       "      <th>Owner</th>\n",
       "    </tr>\n",
       "  </thead>\n",
       "  <tbody>\n",
       "    <tr>\n",
       "      <th>0</th>\n",
       "      <td>ritz</td>\n",
       "      <td>2014</td>\n",
       "      <td>3.35</td>\n",
       "      <td>5.59</td>\n",
       "      <td>27000</td>\n",
       "      <td>Petrol</td>\n",
       "      <td>Dealer</td>\n",
       "      <td>Manual</td>\n",
       "      <td>0</td>\n",
       "    </tr>\n",
       "    <tr>\n",
       "      <th>1</th>\n",
       "      <td>sx4</td>\n",
       "      <td>2013</td>\n",
       "      <td>4.75</td>\n",
       "      <td>9.54</td>\n",
       "      <td>43000</td>\n",
       "      <td>Diesel</td>\n",
       "      <td>Dealer</td>\n",
       "      <td>Manual</td>\n",
       "      <td>0</td>\n",
       "    </tr>\n",
       "    <tr>\n",
       "      <th>2</th>\n",
       "      <td>ciaz</td>\n",
       "      <td>2017</td>\n",
       "      <td>7.25</td>\n",
       "      <td>9.85</td>\n",
       "      <td>6900</td>\n",
       "      <td>Petrol</td>\n",
       "      <td>Dealer</td>\n",
       "      <td>Manual</td>\n",
       "      <td>0</td>\n",
       "    </tr>\n",
       "    <tr>\n",
       "      <th>3</th>\n",
       "      <td>wagon r</td>\n",
       "      <td>2011</td>\n",
       "      <td>2.85</td>\n",
       "      <td>4.15</td>\n",
       "      <td>5200</td>\n",
       "      <td>Petrol</td>\n",
       "      <td>Dealer</td>\n",
       "      <td>Manual</td>\n",
       "      <td>0</td>\n",
       "    </tr>\n",
       "    <tr>\n",
       "      <th>4</th>\n",
       "      <td>swift</td>\n",
       "      <td>2014</td>\n",
       "      <td>4.60</td>\n",
       "      <td>6.87</td>\n",
       "      <td>42450</td>\n",
       "      <td>Diesel</td>\n",
       "      <td>Dealer</td>\n",
       "      <td>Manual</td>\n",
       "      <td>0</td>\n",
       "    </tr>\n",
       "    <tr>\n",
       "      <th>...</th>\n",
       "      <td>...</td>\n",
       "      <td>...</td>\n",
       "      <td>...</td>\n",
       "      <td>...</td>\n",
       "      <td>...</td>\n",
       "      <td>...</td>\n",
       "      <td>...</td>\n",
       "      <td>...</td>\n",
       "      <td>...</td>\n",
       "    </tr>\n",
       "    <tr>\n",
       "      <th>295</th>\n",
       "      <td>city</td>\n",
       "      <td>2016</td>\n",
       "      <td>9.50</td>\n",
       "      <td>11.60</td>\n",
       "      <td>33988</td>\n",
       "      <td>Diesel</td>\n",
       "      <td>Dealer</td>\n",
       "      <td>Manual</td>\n",
       "      <td>0</td>\n",
       "    </tr>\n",
       "    <tr>\n",
       "      <th>296</th>\n",
       "      <td>brio</td>\n",
       "      <td>2015</td>\n",
       "      <td>4.00</td>\n",
       "      <td>5.90</td>\n",
       "      <td>60000</td>\n",
       "      <td>Petrol</td>\n",
       "      <td>Dealer</td>\n",
       "      <td>Manual</td>\n",
       "      <td>0</td>\n",
       "    </tr>\n",
       "    <tr>\n",
       "      <th>297</th>\n",
       "      <td>city</td>\n",
       "      <td>2009</td>\n",
       "      <td>3.35</td>\n",
       "      <td>11.00</td>\n",
       "      <td>87934</td>\n",
       "      <td>Petrol</td>\n",
       "      <td>Dealer</td>\n",
       "      <td>Manual</td>\n",
       "      <td>0</td>\n",
       "    </tr>\n",
       "    <tr>\n",
       "      <th>298</th>\n",
       "      <td>city</td>\n",
       "      <td>2017</td>\n",
       "      <td>11.50</td>\n",
       "      <td>12.50</td>\n",
       "      <td>9000</td>\n",
       "      <td>Diesel</td>\n",
       "      <td>Dealer</td>\n",
       "      <td>Manual</td>\n",
       "      <td>0</td>\n",
       "    </tr>\n",
       "    <tr>\n",
       "      <th>299</th>\n",
       "      <td>brio</td>\n",
       "      <td>2016</td>\n",
       "      <td>5.30</td>\n",
       "      <td>5.90</td>\n",
       "      <td>5464</td>\n",
       "      <td>Petrol</td>\n",
       "      <td>Dealer</td>\n",
       "      <td>Manual</td>\n",
       "      <td>0</td>\n",
       "    </tr>\n",
       "  </tbody>\n",
       "</table>\n",
       "<p>300 rows × 9 columns</p>\n",
       "</div>"
      ],
      "text/plain": [
       "    Car_Name  Year  Selling_Price  Present_Price  Kms_Driven Fuel_Type  \\\n",
       "0       ritz  2014           3.35           5.59       27000    Petrol   \n",
       "1        sx4  2013           4.75           9.54       43000    Diesel   \n",
       "2       ciaz  2017           7.25           9.85        6900    Petrol   \n",
       "3    wagon r  2011           2.85           4.15        5200    Petrol   \n",
       "4      swift  2014           4.60           6.87       42450    Diesel   \n",
       "..       ...   ...            ...            ...         ...       ...   \n",
       "295     city  2016           9.50          11.60       33988    Diesel   \n",
       "296     brio  2015           4.00           5.90       60000    Petrol   \n",
       "297     city  2009           3.35          11.00       87934    Petrol   \n",
       "298     city  2017          11.50          12.50        9000    Diesel   \n",
       "299     brio  2016           5.30           5.90        5464    Petrol   \n",
       "\n",
       "    Seller_Type Transmission  Owner  \n",
       "0        Dealer       Manual      0  \n",
       "1        Dealer       Manual      0  \n",
       "2        Dealer       Manual      0  \n",
       "3        Dealer       Manual      0  \n",
       "4        Dealer       Manual      0  \n",
       "..          ...          ...    ...  \n",
       "295      Dealer       Manual      0  \n",
       "296      Dealer       Manual      0  \n",
       "297      Dealer       Manual      0  \n",
       "298      Dealer       Manual      0  \n",
       "299      Dealer       Manual      0  \n",
       "\n",
       "[300 rows x 9 columns]"
      ]
     },
     "execution_count": 19,
     "metadata": {},
     "output_type": "execute_result"
    }
   ],
   "source": [
    "car_data.reset_index(drop= True)"
   ]
  },
  {
   "cell_type": "markdown",
   "id": "e58850b5",
   "metadata": {},
   "source": [
    "#### - Supression des outliers de la variables selling price"
   ]
  },
  {
   "cell_type": "code",
   "execution_count": 20,
   "id": "343087f0",
   "metadata": {},
   "outputs": [],
   "source": [
    "q25 = np.percentile(car_data['Selling_Price'], 25)\n",
    "q75 = np.percentile(car_data['Selling_Price'], 75)\n",
    "iqr = q75 - q25\n",
    "cut_off = iqr * 1.5\n",
    "lower= q25 - cut_off\n",
    "upper = q75 + cut_off\n",
    "car_data.loc[car_data['Selling_Price']< lower] =np.nan\n",
    "car_data.loc[car_data['Selling_Price']> upper] = np.nan\n",
    "#car_data.isnull().sum()\n",
    "car_data1 = car_data.dropna(axis=0)\n",
    "#car_data1.shape"
   ]
  },
  {
   "cell_type": "markdown",
   "id": "f0ac24ed",
   "metadata": {},
   "source": [
    "#### - Calcul de l'age des voitures à partir de la colonne Year"
   ]
  },
  {
   "cell_type": "code",
   "execution_count": 22,
   "id": "4a245ff6",
   "metadata": {},
   "outputs": [
    {
     "data": {
      "text/plain": [
       "(283, 9)"
      ]
     },
     "execution_count": 22,
     "metadata": {},
     "output_type": "execute_result"
    }
   ],
   "source": [
    "new_car_data = car_data1.copy()\n",
    "current_year = datetime.datetime.now().year \n",
    "new_car_data['Current_year'] = current_year\n",
    "new_car_data['Age']= new_car_data['Current_year'] - new_car_data['Year']\n",
    "new_car_data.drop('Year', axis=1,inplace=True)\n",
    "new_car_data.drop('Current_year', axis=1, inplace=True)\n",
    "new_car_data.shape"
   ]
  },
  {
   "cell_type": "markdown",
   "id": "96b235f2",
   "metadata": {},
   "source": [
    "#### - Le dataset comprends maintenant 283 observations et 9 variables"
   ]
  },
  {
   "cell_type": "markdown",
   "id": "97c343f3",
   "metadata": {},
   "source": [
    "#### 1.Régression linéaire univariée avec scipy , feature : age des voiture, target : selling price"
   ]
  },
  {
   "cell_type": "code",
   "execution_count": 23,
   "id": "2fea7b31",
   "metadata": {},
   "outputs": [],
   "source": [
    "X = new_car_data['Age'].values\n",
    "y = new_car_data['Selling_Price'].values"
   ]
  },
  {
   "cell_type": "markdown",
   "id": "efce9edc",
   "metadata": {},
   "source": [
    "#### - Division du dataset en dataset d'entrainement et dataset de validation"
   ]
  },
  {
   "cell_type": "code",
   "execution_count": 25,
   "id": "c13198b0",
   "metadata": {},
   "outputs": [],
   "source": [
    "X_train, X_test, y_train, y_test = train_test_split(X, y, train_size=0.7, random_state= 2)"
   ]
  },
  {
   "cell_type": "code",
   "execution_count": 26,
   "id": "e9962664",
   "metadata": {},
   "outputs": [
    {
     "name": "stdout",
     "output_type": "stream",
     "text": [
      "s: -0.3239207760711398\n",
      "intercept : 6.86416656459502\n",
      "r_value: -0.308444787008736\n",
      "p_value : 9.824679356041558e-06\n",
      "stderr : 0.07135500883539245\n"
     ]
    }
   ],
   "source": [
    "slope, intercept, r, p, se = stats.linregress(X_train, y_train)\n",
    "print('s:', slope)\n",
    "print('intercept :', intercept)\n",
    "print('r_value:' , r)\n",
    "print('p_value :', p)\n",
    "print('stderr :', se)"
   ]
  },
  {
   "cell_type": "markdown",
   "id": "d8c41dd1",
   "metadata": {},
   "source": [
    "#### - Modèle "
   ]
  },
  {
   "cell_type": "code",
   "execution_count": 27,
   "id": "a2ad1565",
   "metadata": {},
   "outputs": [],
   "source": [
    "def prediction(x):\n",
    "    return slope * x + intercept\n",
    "\n",
    "y_pred = prediction(X_test)"
   ]
  },
  {
   "cell_type": "code",
   "execution_count": 28,
   "id": "d3681cc6",
   "metadata": {},
   "outputs": [
    {
     "data": {
      "image/png": "[encoded data removed]",
      "text/plain": [
       "<Figure size 640x480 with 1 Axes>"
      ]
     },
     "metadata": {},
     "output_type": "display_data"
    }
   ],
   "source": [
    "plt.plot(X_test, y_test, 'o', label='original data')\n",
    "plt.plot(X_test, y_pred, 'r', label='fitted line')\n",
    "plt.legend()\n",
    "plt.show()"
   ]
  },
  {
   "cell_type": "markdown",
   "id": "75779920",
   "metadata": {},
   "source": [
    "#### - Calcul des métriques"
   ]
  },
  {
   "cell_type": "code",
   "execution_count": 29,
   "id": "f0f5df1d",
   "metadata": {},
   "outputs": [
    {
     "data": {
      "text/plain": [
       "0.004664960640506477"
      ]
     },
     "execution_count": 29,
     "metadata": {},
     "output_type": "execute_result"
    }
   ],
   "source": [
    "r2score = r2_score(y_test, y_pred)\n",
    "r2score"
   ]
  },
  {
   "cell_type": "code",
   "execution_count": 30,
   "id": "e61e4fa6",
   "metadata": {},
   "outputs": [
    {
     "data": {
      "text/plain": [
       "2.2291095942063652"
      ]
     },
     "execution_count": 30,
     "metadata": {},
     "output_type": "execute_result"
    }
   ],
   "source": [
    "mae = mean_absolute_error(y_test,y_pred)\n",
    "mae"
   ]
  },
  {
   "cell_type": "code",
   "execution_count": 31,
   "id": "36eb6c31",
   "metadata": {},
   "outputs": [
    {
     "data": {
      "text/plain": [
       "2.610157463715952"
      ]
     },
     "execution_count": 31,
     "metadata": {},
     "output_type": "execute_result"
    }
   ],
   "source": [
    "rmse = mean_squared_error(y_test,y_pred, squared= False)\n",
    "rmse"
   ]
  },
  {
   "cell_type": "markdown",
   "id": "7fec87a4",
   "metadata": {},
   "source": [
    "####  2. Régression linéaire univariée avec numpy"
   ]
  },
  {
   "cell_type": "code",
   "execution_count": 32,
   "id": "17d40b38",
   "metadata": {},
   "outputs": [],
   "source": [
    "X1 = new_car_data['Age'].values\n",
    "y1= new_car_data['Selling_Price'].values"
   ]
  },
  {
   "cell_type": "code",
   "execution_count": 33,
   "id": "5108ebad",
   "metadata": {},
   "outputs": [],
   "source": [
    "X_train1, X_test1, y_train1, y_test1 = train_test_split(X1, y1, train_size=0.7, random_state= 2)"
   ]
  },
  {
   "cell_type": "code",
   "execution_count": 34,
   "id": "80116999",
   "metadata": {},
   "outputs": [
    {
     "data": {
      "text/plain": [
       "array([-0.32392078,  6.86416656])"
      ]
     },
     "execution_count": 34,
     "metadata": {},
     "output_type": "execute_result"
    }
   ],
   "source": [
    "coef = np.polyfit(X_train1, y_train1, 1)\n",
    "coef"
   ]
  },
  {
   "cell_type": "code",
   "execution_count": 35,
   "id": "d51c4a05",
   "metadata": {},
   "outputs": [],
   "source": [
    "beta0, beta1 = coef[0], coef[1]"
   ]
  },
  {
   "cell_type": "code",
   "execution_count": 36,
   "id": "4300132c",
   "metadata": {},
   "outputs": [],
   "source": [
    "poly = np.poly1d(coef)\n",
    "y_pred1 = poly(X_test1)"
   ]
  },
  {
   "cell_type": "code",
   "execution_count": 37,
   "id": "12dd32c3",
   "metadata": {
    "scrolled": true
   },
   "outputs": [
    {
     "data": {
      "image/png": "[encoded data removed]",
      "text/plain": [
       "<Figure size 640x480 with 1 Axes>"
      ]
     },
     "metadata": {},
     "output_type": "display_data"
    }
   ],
   "source": [
    "plt.plot(X_test1,y_test1, 'yo', X_test, y_pred1)\n",
    "plt.title('Linear regression with numpy')\n",
    "plt.show()"
   ]
  },
  {
   "cell_type": "markdown",
   "id": "da9bb352",
   "metadata": {},
   "source": [
    "#### - Mètriques"
   ]
  },
  {
   "cell_type": "code",
   "execution_count": 38,
   "id": "9482e911",
   "metadata": {},
   "outputs": [
    {
     "data": {
      "text/plain": [
       "0.004664960640506477"
      ]
     },
     "execution_count": 38,
     "metadata": {},
     "output_type": "execute_result"
    }
   ],
   "source": [
    "r2score1 = r2_score(y_test1, y_pred1)\n",
    "r2score1"
   ]
  },
  {
   "cell_type": "code",
   "execution_count": 39,
   "id": "7cf9489b",
   "metadata": {},
   "outputs": [
    {
     "data": {
      "text/plain": [
       "2.2291095942063657"
      ]
     },
     "execution_count": 39,
     "metadata": {},
     "output_type": "execute_result"
    }
   ],
   "source": [
    "mae = mean_absolute_error(y_test1,y_pred1)\n",
    "mae"
   ]
  },
  {
   "cell_type": "code",
   "execution_count": 40,
   "id": "aa49638f",
   "metadata": {},
   "outputs": [
    {
     "data": {
      "text/plain": [
       "2.610157463715952"
      ]
     },
     "execution_count": 40,
     "metadata": {},
     "output_type": "execute_result"
    }
   ],
   "source": [
    "rmse = mean_squared_error(y_test1,y_pred1, squared= False)\n",
    "rmse"
   ]
  },
  {
   "cell_type": "markdown",
   "id": "f2f4989a",
   "metadata": {},
   "source": [
    "#### Régression linéaire avec scikit-learn"
   ]
  },
  {
   "cell_type": "code",
   "execution_count": 41,
   "id": "4b30b3ba",
   "metadata": {},
   "outputs": [],
   "source": [
    "X2 = new_car_data['Age'].values.reshape(-1,1)\n",
    "y2= new_car_data['Selling_Price'].values.reshape(-1,1)"
   ]
  },
  {
   "cell_type": "markdown",
   "id": "e6386b3a",
   "metadata": {},
   "source": [
    "#### - Division du dataset en dataset d'entrainement et de validation"
   ]
  },
  {
   "cell_type": "code",
   "execution_count": 42,
   "id": "96b5d669",
   "metadata": {},
   "outputs": [],
   "source": [
    "X_train2, X_test2, y_train2, y_test2 = train_test_split(X2, y2, train_size=0.7, random_state= 2)"
   ]
  },
  {
   "cell_type": "markdown",
   "id": "185378bc",
   "metadata": {},
   "source": [
    "#### - Initialisation du modèle de règression linéaire"
   ]
  },
  {
   "cell_type": "code",
   "execution_count": 43,
   "id": "0e910aab",
   "metadata": {},
   "outputs": [],
   "source": [
    "linear_regression=LinearRegression()"
   ]
  },
  {
   "cell_type": "markdown",
   "id": "9030159d",
   "metadata": {},
   "source": [
    "#### - Entrainement du modèle"
   ]
  },
  {
   "cell_type": "code",
   "execution_count": 44,
   "id": "36b3153e",
   "metadata": {},
   "outputs": [
    {
     "data": {
      "text/plain": [
       "LinearRegression()"
      ]
     },
     "execution_count": 44,
     "metadata": {},
     "output_type": "execute_result"
    }
   ],
   "source": [
    "linear_regression.fit(X_train2,y_train2)"
   ]
  },
  {
   "cell_type": "markdown",
   "id": "10c21b8f",
   "metadata": {},
   "source": [
    "#### - Prédiction"
   ]
  },
  {
   "cell_type": "code",
   "execution_count": 45,
   "id": "75e5ff0f",
   "metadata": {},
   "outputs": [],
   "source": [
    "y_pred3= linear_regression.predict(X_test2)"
   ]
  },
  {
   "cell_type": "code",
   "execution_count": 46,
   "id": "f46fc409",
   "metadata": {},
   "outputs": [
    {
     "name": "stdout",
     "output_type": "stream",
     "text": [
      "Train score : 0.09513818663286455\n",
      "Test score : 0.004664960640506477\n"
     ]
    }
   ],
   "source": [
    "print('Train score :',linear_regression.score(X_train2,y_train2))\n",
    "print('Test score :',linear_regression.score(X_test2,y_test2))"
   ]
  },
  {
   "cell_type": "markdown",
   "id": "32c9dfb4",
   "metadata": {},
   "source": [
    "#### - Le score de validation est inférieur au score d'entrainement : le modèle fait un under fitting"
   ]
  },
  {
   "cell_type": "code",
   "execution_count": 47,
   "id": "f54974a6",
   "metadata": {},
   "outputs": [
    {
     "data": {
      "image/png": "[encoded data removed]",
      "text/plain": [
       "<Figure size 640x480 with 1 Axes>"
      ]
     },
     "metadata": {},
     "output_type": "display_data"
    }
   ],
   "source": [
    "plt.plot(y_test2, label='valeurs réelles')\n",
    "plt.plot(y_pred3,'y' ,label='valeurs prédites')\n",
    "plt.legend()\n",
    "plt.title('valeurs réelles vs prédiction')\n",
    "plt.show()"
   ]
  },
  {
   "cell_type": "markdown",
   "id": "a9fc2b1e",
   "metadata": {},
   "source": [
    "#### - Calcul des métriques"
   ]
  },
  {
   "cell_type": "code",
   "execution_count": 48,
   "id": "a90b73fc",
   "metadata": {
    "scrolled": true
   },
   "outputs": [
    {
     "data": {
      "text/plain": [
       "0.004664960640506477"
      ]
     },
     "execution_count": 48,
     "metadata": {},
     "output_type": "execute_result"
    }
   ],
   "source": [
    "r_score = r2_score(y_test2, y_pred3)\n",
    "r_score "
   ]
  },
  {
   "cell_type": "code",
   "execution_count": 49,
   "id": "1c1c7397",
   "metadata": {},
   "outputs": [
    {
     "data": {
      "text/plain": [
       "2.2291095942063652"
      ]
     },
     "execution_count": 49,
     "metadata": {},
     "output_type": "execute_result"
    }
   ],
   "source": [
    "mae = mean_absolute_error(y_test,y_pred3)\n",
    "mae"
   ]
  },
  {
   "cell_type": "code",
   "execution_count": 50,
   "id": "8281f14d",
   "metadata": {},
   "outputs": [
    {
     "data": {
      "text/plain": [
       "2.610157463715952"
      ]
     },
     "execution_count": 50,
     "metadata": {},
     "output_type": "execute_result"
    }
   ],
   "source": [
    "rmse = mean_squared_error(y_test,y_pred3, squared= False)\n",
    "rmse"
   ]
  },
  {
   "cell_type": "markdown",
   "id": "cddc4ec8",
   "metadata": {},
   "source": [
    "- Suite à l'implémentation de la régression linéaire avec numpy, scipy et scikit-learn, on obtient le meme scrore R2 = 0.004\n",
    "- qui est très faible et du coup le modèle n'est pas performant.\n",
    "- Ce qui peut etre dù à la composition du dataset, mais aussi à l'exploitation d'une seule feature qui n'apporte\n",
    "- pas beaucoup\n",
    "- Par contre, Scikit-learn est plus simple d'utilisation vu que c'est spécialement conçue du machine learning"
   ]
  },
  {
   "cell_type": "markdown",
   "id": "93d844d6",
   "metadata": {},
   "source": [
    "#### Amélioration du modèle avec ajout de features : régression linéaire multiple\n",
    "- features : age, kms_Driven, Transmission"
   ]
  },
  {
   "cell_type": "markdown",
   "id": "520b02ed",
   "metadata": {},
   "source": [
    "- La variable Transmission étant qualitative,elle doit etre encodée pour son utilisation"
   ]
  },
  {
   "cell_type": "code",
   "execution_count": 51,
   "id": "98161796",
   "metadata": {},
   "outputs": [
    {
     "data": {
      "text/html": [
       "<div>\n",
       "<style scoped>\n",
       "    .dataframe tbody tr th:only-of-type {\n",
       "        vertical-align: middle;\n",
       "    }\n",
       "\n",
       "    .dataframe tbody tr th {\n",
       "        vertical-align: top;\n",
       "    }\n",
       "\n",
       "    .dataframe thead th {\n",
       "        text-align: right;\n",
       "    }\n",
       "</style>\n",
       "<table border=\"1\" class=\"dataframe\">\n",
       "  <thead>\n",
       "    <tr style=\"text-align: right;\">\n",
       "      <th></th>\n",
       "      <th>Car_Name</th>\n",
       "      <th>Selling_Price</th>\n",
       "      <th>Present_Price</th>\n",
       "      <th>Kms_Driven</th>\n",
       "      <th>Fuel_Type</th>\n",
       "      <th>Seller_Type</th>\n",
       "      <th>Transmission</th>\n",
       "      <th>Owner</th>\n",
       "      <th>Age</th>\n",
       "      <th>Automatic</th>\n",
       "      <th>Manual</th>\n",
       "    </tr>\n",
       "  </thead>\n",
       "  <tbody>\n",
       "    <tr>\n",
       "      <th>0</th>\n",
       "      <td>ritz</td>\n",
       "      <td>3.35</td>\n",
       "      <td>5.59</td>\n",
       "      <td>27000.0</td>\n",
       "      <td>Petrol</td>\n",
       "      <td>Dealer</td>\n",
       "      <td>Manual</td>\n",
       "      <td>0.0</td>\n",
       "      <td>9.0</td>\n",
       "      <td>0.0</td>\n",
       "      <td>1.0</td>\n",
       "    </tr>\n",
       "    <tr>\n",
       "      <th>1</th>\n",
       "      <td>sx4</td>\n",
       "      <td>4.75</td>\n",
       "      <td>9.54</td>\n",
       "      <td>43000.0</td>\n",
       "      <td>Diesel</td>\n",
       "      <td>Dealer</td>\n",
       "      <td>Manual</td>\n",
       "      <td>0.0</td>\n",
       "      <td>10.0</td>\n",
       "      <td>0.0</td>\n",
       "      <td>1.0</td>\n",
       "    </tr>\n",
       "    <tr>\n",
       "      <th>2</th>\n",
       "      <td>ciaz</td>\n",
       "      <td>7.25</td>\n",
       "      <td>9.85</td>\n",
       "      <td>6900.0</td>\n",
       "      <td>Petrol</td>\n",
       "      <td>Dealer</td>\n",
       "      <td>Manual</td>\n",
       "      <td>0.0</td>\n",
       "      <td>6.0</td>\n",
       "      <td>0.0</td>\n",
       "      <td>1.0</td>\n",
       "    </tr>\n",
       "    <tr>\n",
       "      <th>3</th>\n",
       "      <td>wagon r</td>\n",
       "      <td>2.85</td>\n",
       "      <td>4.15</td>\n",
       "      <td>5200.0</td>\n",
       "      <td>Petrol</td>\n",
       "      <td>Dealer</td>\n",
       "      <td>Manual</td>\n",
       "      <td>0.0</td>\n",
       "      <td>12.0</td>\n",
       "      <td>0.0</td>\n",
       "      <td>1.0</td>\n",
       "    </tr>\n",
       "    <tr>\n",
       "      <th>4</th>\n",
       "      <td>swift</td>\n",
       "      <td>4.60</td>\n",
       "      <td>6.87</td>\n",
       "      <td>42450.0</td>\n",
       "      <td>Diesel</td>\n",
       "      <td>Dealer</td>\n",
       "      <td>Manual</td>\n",
       "      <td>0.0</td>\n",
       "      <td>9.0</td>\n",
       "      <td>0.0</td>\n",
       "      <td>1.0</td>\n",
       "    </tr>\n",
       "  </tbody>\n",
       "</table>\n",
       "</div>"
      ],
      "text/plain": [
       "  Car_Name  Selling_Price  Present_Price  Kms_Driven Fuel_Type Seller_Type  \\\n",
       "0     ritz           3.35           5.59     27000.0    Petrol      Dealer   \n",
       "1      sx4           4.75           9.54     43000.0    Diesel      Dealer   \n",
       "2     ciaz           7.25           9.85      6900.0    Petrol      Dealer   \n",
       "3  wagon r           2.85           4.15      5200.0    Petrol      Dealer   \n",
       "4    swift           4.60           6.87     42450.0    Diesel      Dealer   \n",
       "\n",
       "  Transmission  Owner   Age  Automatic  Manual  \n",
       "0       Manual    0.0   9.0        0.0     1.0  \n",
       "1       Manual    0.0  10.0        0.0     1.0  \n",
       "2       Manual    0.0   6.0        0.0     1.0  \n",
       "3       Manual    0.0  12.0        0.0     1.0  \n",
       "4       Manual    0.0   9.0        0.0     1.0  "
      ]
     },
     "execution_count": 51,
     "metadata": {},
     "output_type": "execute_result"
    }
   ],
   "source": [
    "encoder = OneHotEncoder()\n",
    "transmission_encode = encoder.fit_transform(new_car_data[[\"Transmission\"]])\n",
    "new_car_data[encoder.categories_[0]] = transmission_encode.toarray()\n",
    "\n",
    "#encoder.categories_\n",
    "new_car_data.head()"
   ]
  },
  {
   "cell_type": "code",
   "execution_count": 52,
   "id": "b107e41c",
   "metadata": {},
   "outputs": [],
   "source": [
    "new_car_data.drop('Transmission', axis=1, inplace = True)"
   ]
  },
  {
   "cell_type": "markdown",
   "id": "f4161582",
   "metadata": {},
   "source": [
    "#### - Définition des features et du target"
   ]
  },
  {
   "cell_type": "code",
   "execution_count": 53,
   "id": "bb1285d3",
   "metadata": {},
   "outputs": [],
   "source": [
    "Xm=new_car_data[['Age','Kms_Driven','Automatic','Manual']]\n",
    "ym=new_car_data['Selling_Price'].values"
   ]
  },
  {
   "cell_type": "markdown",
   "id": "38601602",
   "metadata": {},
   "source": [
    "#### - Division du dataset en dataset d'entrainement et dataset de validation"
   ]
  },
  {
   "cell_type": "code",
   "execution_count": 54,
   "id": "bfb5020b",
   "metadata": {},
   "outputs": [],
   "source": [
    "X_trainm, X_testm, y_trainm, y_testm = train_test_split(Xm,ym, train_size=0.7, random_state= 2)"
   ]
  },
  {
   "cell_type": "markdown",
   "id": "5d501fcb",
   "metadata": {},
   "source": [
    "#### - Standardisation"
   ]
  },
  {
   "cell_type": "code",
   "execution_count": 55,
   "id": "2037af3c",
   "metadata": {},
   "outputs": [],
   "source": [
    "scaler = StandardScaler()"
   ]
  },
  {
   "cell_type": "code",
   "execution_count": 56,
   "id": "7448de4d",
   "metadata": {},
   "outputs": [],
   "source": [
    "scaler = StandardScaler()\n",
    "X_trainm = scaler.fit_transform(X_trainm)\n",
    "X_testm = scaler.fit_transform (X_testm)"
   ]
  },
  {
   "cell_type": "code",
   "execution_count": 57,
   "id": "7d59f7b3",
   "metadata": {},
   "outputs": [],
   "source": [
    "linear_reg=LinearRegression()"
   ]
  },
  {
   "cell_type": "code",
   "execution_count": 58,
   "id": "0cab0498",
   "metadata": {},
   "outputs": [
    {
     "data": {
      "text/plain": [
       "LinearRegression()"
      ]
     },
     "execution_count": 58,
     "metadata": {},
     "output_type": "execute_result"
    }
   ],
   "source": [
    "linear_reg.fit(X_trainm,y_trainm)"
   ]
  },
  {
   "cell_type": "code",
   "execution_count": 59,
   "id": "84051313",
   "metadata": {},
   "outputs": [],
   "source": [
    "y_predict=linear_reg.predict(X_testm)"
   ]
  },
  {
   "cell_type": "code",
   "execution_count": 60,
   "id": "e3621ea6",
   "metadata": {},
   "outputs": [
    {
     "name": "stdout",
     "output_type": "stream",
     "text": [
      "Train score : 0.11539906693565094\n",
      "Test score : 0.047142724607376785\n"
     ]
    }
   ],
   "source": [
    "print('Train score :',linear_reg.score(X_trainm,y_trainm))\n",
    "print('Test score :', linear_reg.score(X_testm,y_testm))"
   ]
  },
  {
   "cell_type": "markdown",
   "id": "323bdb39",
   "metadata": {},
   "source": [
    "#### - Métriques"
   ]
  },
  {
   "cell_type": "code",
   "execution_count": 61,
   "id": "6b8fc84c",
   "metadata": {},
   "outputs": [
    {
     "data": {
      "text/plain": [
       "0.047142724607376785"
      ]
     },
     "execution_count": 61,
     "metadata": {},
     "output_type": "execute_result"
    }
   ],
   "source": [
    "rscore = r2_score(y_testm, y_predict)\n",
    "rscore"
   ]
  },
  {
   "cell_type": "code",
   "execution_count": 62,
   "id": "98396b14",
   "metadata": {},
   "outputs": [
    {
     "data": {
      "text/plain": [
       "2.15598894967772"
      ]
     },
     "execution_count": 62,
     "metadata": {},
     "output_type": "execute_result"
    }
   ],
   "source": [
    "mae = mean_absolute_error(y_testm,y_predict)\n",
    "mae"
   ]
  },
  {
   "cell_type": "code",
   "execution_count": 63,
   "id": "a04c2857",
   "metadata": {},
   "outputs": [
    {
     "data": {
      "text/plain": [
       "2.553853546541174"
      ]
     },
     "execution_count": 63,
     "metadata": {},
     "output_type": "execute_result"
    }
   ],
   "source": [
    "mse = mean_squared_error(y_testm,y_predict, squared= False)\n",
    "mse"
   ]
  },
  {
   "cell_type": "markdown",
   "id": "159fe181",
   "metadata": {},
   "source": [
    "- La régression avec des features multiples donne un score faible quasi égal à celui de la régression univariée\n",
    "- Ce qui semble étre incohérent car le modèle devrait etre plus performant à mon avis\n",
    "- ça pourrait etre du à une erreur de calcul aussi quelque part"
   ]
  },
  {
   "cell_type": "code",
   "execution_count": 64,
   "id": "cfe1b035",
   "metadata": {},
   "outputs": [
    {
     "name": "stderr",
     "output_type": "stream",
     "text": [
      "C:\\Users\\sadio\\anaconda3\\lib\\site-packages\\sklearn\\base.py:443: UserWarning: X has feature names, but LinearRegression was fitted without feature names\n",
      "  warnings.warn(\n"
     ]
    },
    {
     "data": {
      "text/plain": [
       "array([48737.73108376])"
      ]
     },
     "execution_count": 64,
     "metadata": {},
     "output_type": "execute_result"
    }
   ],
   "source": [
    "linear_reg.predict(pd.DataFrame([[7,\n",
    "                                  100000,\n",
    "                                  \"1\", \"0\"]],\n",
    "                                  columns=[\"Age\",\"Kms_Driven\",\"Manual\",\"Automatic\"]))"
   ]
  },
  {
   "cell_type": "markdown",
   "id": "2b4f8eb4",
   "metadata": {},
   "source": [
    "#### Implémentation de la classe régression linéaire"
   ]
  },
  {
   "cell_type": "code",
   "execution_count": 65,
   "id": "0e9f7819",
   "metadata": {},
   "outputs": [
    {
     "ename": "SyntaxError",
     "evalue": "invalid syntax (4145641305.py, line 14)",
     "output_type": "error",
     "traceback": [
      "\u001b[1;36m  File \u001b[1;32m\"C:\\Users\\sadio\\AppData\\Local\\Temp\\ipykernel_9288\\4145641305.py\"\u001b[1;36m, line \u001b[1;32m14\u001b[0m\n\u001b[1;33m    def Predict(self, X):\u001b[0m\n\u001b[1;37m    ^\u001b[0m\n\u001b[1;31mSyntaxError\u001b[0m\u001b[1;31m:\u001b[0m invalid syntax\n"
     ]
    }
   ],
   "source": [
    "class LinearRegression:\n",
    "    def __init__(self):\n",
    "        self.b0 = 0\n",
    "        self.b1 = 0\n",
    "\n",
    "    def Fit(self, X, y):\n",
    "        Cov =  np.mean(X *y) - (np.mean(X) * np.mean(y))\n",
    "        varX = np.var(X)\n",
    "        vary = np.var(y)\n",
    "        self.b1= Cov/varX\n",
    "        self.b0 = np.mean(y) - (b1*(np.mean(X))\n",
    "    def Predict(self, X):\n",
    "        return b0 + b1*X\n",
    "                        \n",
    "    def Gradien(self, X, y, b1):\n",
    "        n = len(y)\n",
    "        return 1/n * X.T.dot(predict(self,X) - y)\n",
    "                                \n",
    "    gradien = Gradien(self, X, y, b1)\n",
    "                                \n",
    "    def Des_gradien(self, X, y, b1, learning_rate, num_iterations):\n",
    "        for i in range(0, num_iterations):\n",
    "            self.b1=  self.b1 - learning_rate * gradien\n",
    "            return b1\n",
    "\n",
    "   \n"
   ]
  },
  {
   "cell_type": "markdown",
   "id": "46d859fb",
   "metadata": {},
   "source": [
    "#### - Au final , l'implémentation de la régression linéaire univariée avec numpy,scipy et scikit-learn sont les memes sauf que sciki\n",
    "-  sikit-learn est plus complète\n",
    "- L'utilisation de certaines variables dites catégorielles nécessite de l'encodage\n",
    "- La visualisation des données est très utile dans la mesure où elle donne un overview des données"
   ]
  },
  {
   "cell_type": "code",
   "execution_count": null,
   "id": "2d29d641",
   "metadata": {},
   "outputs": [],
   "source": []
  }
 ],
 "metadata": {
  "kernelspec": {
   "display_name": "Python 3 (ipykernel)",
   "language": "python",
   "name": "python3"
  },
  "language_info": {
   "codemirror_mode": {
    "name": "ipython",
    "version": 3
   },
   "file_extension": ".py",
   "mimetype": "text/x-python",
   "name": "python",
   "nbconvert_exporter": "python",
   "pygments_lexer": "ipython3",
   "version": "3.9.13"
  }
 },
 "nbformat": 4,
 "nbformat_minor": 5
}
